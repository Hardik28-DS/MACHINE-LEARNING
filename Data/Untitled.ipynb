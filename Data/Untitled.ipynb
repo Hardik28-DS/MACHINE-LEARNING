{
 "cells": [
  {
   "cell_type": "code",
   "execution_count": 3,
   "id": "444a33c3-ff4a-4527-82f2-b33ed5a091f3",
   "metadata": {},
   "outputs": [],
   "source": [
    "import torch\n",
    "import torch.nn as nn\n",
    "import matplotlib.pyplot as plt"
   ]
  },
  {
   "cell_type": "code",
   "execution_count": null,
   "id": "4d914ce8-d2b6-4de8-9198-95b57d4f3f23",
   "metadata": {},
   "outputs": [],
   "source": [
    "# set random seed for reproducibility\n",
    "torch.manual_seed(42)\n",
    "\n",
    "# set number of samples\n",
    "num_samples = 1000\n",
    "\n",
    "# create random features with 2 dimensions\n",
    "x = torch.randn(num_samples, 2)\n",
    "\n",
    "# create random weights and bias for the linear regression model\n",
    "true_weights = torch.tensor([1.3, -1])\n",
    "true_bias    = torch.tensor([-3.5])\n",
    "\n",
    "# Target variable\n",
    "y = x @ true_weights.T + true_bias\n",
    "\n",
    "# Plot the dataset\n",
    "fig, ax = plt.subplots(1, 2, sharey=True)\n",
    "ax[0].scatter(x[:,0],y)\n",
    "ax[1].scatter(x[:,1],y)\n",
    "\n",
    "ax[0].set_xlabel('X1')\n",
    "ax[0].set_ylabel('Y')\n",
    "ax[1].set_xlabel('X2')\n",
    "ax[1].set_ylabel('Y')\n",
    "plt.show()"
   ]
  }
 ],
 "metadata": {
  "kernelspec": {
   "display_name": "Python 3 (ipykernel)",
   "language": "python",
   "name": "python3"
  },
  "language_info": {
   "codemirror_mode": {
    "name": "ipython",
    "version": 3
   },
   "file_extension": ".py",
   "mimetype": "text/x-python",
   "name": "python",
   "nbconvert_exporter": "python",
   "pygments_lexer": "ipython3",
   "version": "3.11.4"
  }
 },
 "nbformat": 4,
 "nbformat_minor": 5
}
